{
 "cells": [
  {
   "cell_type": "code",
   "execution_count": null,
   "metadata": {},
   "outputs": [],
   "source": []
  },
  {
   "cell_type": "markdown",
   "metadata": {},
   "source": [
    "*Question* Build a function that outputs the following sequence based on the line previous."
   ]
  },
  {
   "cell_type": "markdown",
   "metadata": {},
   "source": [
    "1<br>\n",
    "11<br>\n",
    "21<br>\n",
    "1211<br>\n",
    "111221<br>\n",
    "312211<br>\n",
    "132221<br>\n",
    "(...and so forth)<br>"
   ]
  },
  {
   "cell_type": "code",
   "execution_count": 140,
   "metadata": {},
   "outputs": [],
   "source": [
    "def fn(prev_line):\n",
    "    x_prev= None\n",
    "    x_next = []\n",
    "    count = 1\n",
    "    last = len(prev_line)-1\n",
    "    \n",
    "    for i, x in enumerate(prev_line):\n",
    "                    \n",
    "        # Increment Count\n",
    "        if x == x_prev:\n",
    "            count += 1\n",
    "\n",
    "        # Reset Count\n",
    "        elif x_prev is not None:\n",
    "            x_next.extend([count, x_prev])\n",
    "            count = 1\n",
    "        \n",
    "        # If last index is reached append the count and current value\n",
    "        if i == last:  \n",
    "            x_next.extend([count, x])\n",
    "            \n",
    "        # Set the current x to be the previous x\n",
    "        x_prev = x\n",
    "        \n",
    "    return x_next\n",
    "        "
   ]
  },
  {
   "cell_type": "code",
   "execution_count": 141,
   "metadata": {},
   "outputs": [
    {
     "name": "stdout",
     "output_type": "stream",
     "text": [
      "[1, 1]\n",
      "[2, 1]\n",
      "[1, 2, 1, 1]\n",
      "[1, 1, 1, 2, 2, 1]\n",
      "[3, 1, 2, 2, 1, 1]\n",
      "[1, 3, 1, 1, 2, 2, 2, 1]\n",
      "[1, 1, 1, 3, 2, 1, 3, 2, 1, 1]\n",
      "[3, 1, 1, 3, 1, 2, 1, 1, 1, 3, 1, 2, 2, 1]\n",
      "[1, 3, 2, 1, 1, 3, 1, 1, 1, 2, 3, 1, 1, 3, 1, 1, 2, 2, 1, 1]\n",
      "[1, 1, 1, 3, 1, 2, 2, 1, 1, 3, 3, 1, 1, 2, 1, 3, 2, 1, 1, 3, 2, 1, 2, 2, 2, 1]\n"
     ]
    }
   ],
   "source": [
    "iters = 10\n",
    "prev_line = [1]\n",
    "for i in range(0, iters):\n",
    "    prev_line = fn(prev_line)\n",
    "    print(prev_line)"
   ]
  }
 ],
 "metadata": {
  "kernelspec": {
   "display_name": "Python (w266)",
   "language": "python",
   "name": "w266"
  },
  "language_info": {
   "codemirror_mode": {
    "name": "ipython",
    "version": 3
   },
   "file_extension": ".py",
   "mimetype": "text/x-python",
   "name": "python",
   "nbconvert_exporter": "python",
   "pygments_lexer": "ipython3",
   "version": "3.6.4"
  }
 },
 "nbformat": 4,
 "nbformat_minor": 2
}
