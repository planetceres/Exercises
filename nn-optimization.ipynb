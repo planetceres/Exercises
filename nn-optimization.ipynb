{
 "cells": [
  {
   "cell_type": "markdown",
   "metadata": {},
   "source": [
    "*Question 1* How would you improve this simple neural net to achieve a better accuracy?"
   ]
  },
  {
   "cell_type": "markdown",
   "metadata": {},
   "source": [
    "## Neural Network"
   ]
  },
  {
   "cell_type": "code",
   "execution_count": 17,
   "metadata": {},
   "outputs": [
    {
     "name": "stdout",
     "output_type": "stream",
     "text": [
      "Loss: 0.03504787477077865\n"
     ]
    }
   ],
   "source": [
    "import numpy as np\n",
    "np.random.seed(1)\n",
    "\n",
    "\n",
    "def sigmoid(x):\n",
    "    return 1 / (1 + np.exp(-x))\n",
    "\n",
    "\n",
    "def sigmoid_output_to_derivative(output):\n",
    "    return output * (1 - output)\n",
    "\n",
    "\n",
    "# inputs\n",
    "X = np.array([[0, 0, 1],\n",
    "              [0, 1, 1],\n",
    "              [1, 0, 1],\n",
    "              [1, 1, 1]])\n",
    "\n",
    "# outputs\n",
    "y = np.array([[0, 0, 1, 1]]).T\n",
    "\n",
    "W_1 = 0.01 * np.random.randn(3, 4)\n",
    "W_2 = 0.01 * np.random.randn(4, 1)\n",
    "\n",
    "alpha = 10\n",
    "\n",
    "for _ in range(100):\n",
    "    \n",
    "    layer_1 = sigmoid(np.dot(X, W_1))\n",
    "    layer_2 = sigmoid(np.dot(layer_1, W_2))\n",
    "    layer_2_error = layer_2 - y\n",
    "    layer_2_delta = layer_2_error * sigmoid_output_to_derivative(layer_2)\n",
    "    layer_1_error = np.dot(layer_2_delta, W_2.T)\n",
    "    layer_1_delta = layer_1_error * sigmoid_output_to_derivative(layer_1)\n",
    "\n",
    "    W_2 -= alpha * np.dot(layer_1.T, layer_2_delta)\n",
    "    W_1 -= alpha * np.dot(X.T, layer_1_delta)\n",
    "\n",
    "    \n",
    "    \n",
    "\n",
    "    \n",
    "\n",
    "print(\"Loss: {}\".format(np.linalg.norm(layer_2 - y)))"
   ]
  },
  {
   "cell_type": "markdown",
   "metadata": {},
   "source": [
    "## Answer"
   ]
  },
  {
   "cell_type": "markdown",
   "metadata": {},
   "source": [
    "Using momentum of the form:\n",
    "\n",
    "\\begin{align}\n",
    "\\begin{split}\n",
    "v_t &= \\gamma v_{t-1} + \\eta \\nabla_\\theta J( \\theta) \\\\  \n",
    "\\theta &= \\theta - v_t\n",
    "\\end{split}\n",
    "\\end{align}"
   ]
  },
  {
   "cell_type": "code",
   "execution_count": 23,
   "metadata": {},
   "outputs": [
    {
     "name": "stdout",
     "output_type": "stream",
     "text": [
      "Loss: 1.9767185323686597e-08\n"
     ]
    }
   ],
   "source": [
    "import numpy as np\n",
    "np.random.seed(1)\n",
    "\n",
    "\n",
    "def sigmoid(x):\n",
    "    return 1 / (1 + np.exp(-x))\n",
    "\n",
    "\n",
    "def sigmoid_output_to_derivative(output):\n",
    "    return output * (1 - output)\n",
    "\n",
    "\n",
    "# inputs\n",
    "X = np.array([[0, 0, 1],\n",
    "              [0, 1, 1],\n",
    "              [1, 0, 1],\n",
    "              [1, 1, 1]])\n",
    "\n",
    "# outputs\n",
    "y = np.array([[0, 0, 1, 1]]).T\n",
    "\n",
    "W_1 = 0.01 * np.random.randn(3, 4)\n",
    "W_2 = 0.01 * np.random.randn(4, 1)\n",
    "\n",
    "alpha = 10\n",
    "gamma = 0.9\n",
    "\n",
    "momentum_layer_2 = 0\n",
    "momentum_layer_1 = 0\n",
    "for _ in range(100):\n",
    "    \n",
    "    layer_1 = sigmoid(np.dot(X, W_1))\n",
    "    layer_2 = sigmoid(np.dot(layer_1, W_2))\n",
    "    layer_2_error = layer_2 - y\n",
    "    layer_2_delta = layer_2_error * sigmoid_output_to_derivative(layer_2)\n",
    "    layer_1_error = np.dot(layer_2_delta, W_2.T)\n",
    "    layer_1_delta = layer_1_error * sigmoid_output_to_derivative(layer_1)\n",
    "    \n",
    "    momentum_layer_2 = gamma*momentum_layer_2 + alpha * np.dot(layer_1.T, layer_2_delta)\n",
    "    W_2 = W_2 - momentum_layer_2\n",
    "    momentum_layer_1 = gamma*momentum_layer_1 + alpha * np.dot(X.T, layer_1_delta)\n",
    "    W_1 = W_1 - momentum_layer_1\n",
    "    \n",
    "print(\"Loss: {}\".format(np.linalg.norm(layer_2 - y)))"
   ]
  },
  {
   "cell_type": "code",
   "execution_count": null,
   "metadata": {},
   "outputs": [],
   "source": []
  },
  {
   "cell_type": "code",
   "execution_count": null,
   "metadata": {},
   "outputs": [],
   "source": []
  }
 ],
 "metadata": {
  "kernelspec": {
   "display_name": "Python (w266)",
   "language": "python",
   "name": "w266"
  },
  "language_info": {
   "codemirror_mode": {
    "name": "ipython",
    "version": 3
   },
   "file_extension": ".py",
   "mimetype": "text/x-python",
   "name": "python",
   "nbconvert_exporter": "python",
   "pygments_lexer": "ipython3",
   "version": "3.6.4"
  }
 },
 "nbformat": 4,
 "nbformat_minor": 2
}
